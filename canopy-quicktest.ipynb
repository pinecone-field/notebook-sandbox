{
 "cells": [
  {
   "cell_type": "markdown",
   "metadata": {},
   "source": [
    "# RAG for 10-Q Reports\n",
    "Use Pinecone's new Resin project to download, chunk and upload vector embeddings to Pinecone. Feedback on the \"dev\" branch of context-engine(AKA: Resin) is included the markdown snippets.\n",
    "\n",
    "**Notebook last tested on 9/21/2023**\n",
    "\n",
    "## Key Technologies\n",
    "1. Canopy\n",
    "2. SEC Edgar API\n",
    "3. Parquet/Pandas/Pyarrow\n",
    "4. Beautiful Soup"
   ]
  },
  {
   "cell_type": "markdown",
   "metadata": {},
   "source": [
    "# Step #1 - Install dependencies"
   ]
  },
  {
   "cell_type": "code",
   "execution_count": null,
   "metadata": {},
   "outputs": [],
   "source": [
    "!pip install -U sec-edgar-downloader pandas pyarrow bs4 openpyxl unstructured llama-hub networkx canopy-sdk python-dotenv"
   ]
  },
  {
   "cell_type": "markdown",
   "metadata": {},
   "source": [
    "# Step 2 - Download 10Q filings for a list of tickers\n",
    "\n",
    "This code has nothing to do with context-engine. Downloading SEC filings is a bit of a pain. This notebook pulls down SPY 500 10-Q filings. "
   ]
  },
  {
   "cell_type": "code",
   "execution_count": null,
   "metadata": {},
   "outputs": [],
   "source": [
    "from sec_edgar_downloader import Downloader\n",
    "import pandas as pd\n",
    "import time\n",
    "import random\n",
    "\n",
    "sleep_time = random.uniform(0.10, 0.30)\n",
    "\n",
    "stocks_frame = pd.read_excel('stock_universe.xlsx', sheet_name=\"TDA_SCREEN\")\n",
    "\n",
    "ticker_list = stocks_frame['ticker'].values.tolist()\n",
    "\n",
    "for t in ticker_list:\n",
    "    try:\n",
    "        dl = Downloader(company_name=\"Pinecone\", \n",
    "                        email_address=\"williamsj@pinecone.io\")\n",
    "        dl.get(\"10-Q\", t, limit=10, download_details=True)\n",
    "    \n",
    "        print(f\"Downloaded 10Q for {t}\")\n",
    "        time.sleep(sleep_time)\n",
    "    except Exception as e:\n",
    "        print(f\"Error downloading {t}\")\n",
    "        print(e)"
   ]
  },
  {
   "cell_type": "markdown",
   "metadata": {},
   "source": [
    "# Step #3 - Move nested html files into a source directory\n",
    "\n",
    "This code has nothing to do with context-engine. Downloading SEC filings is a bit of a pain."
   ]
  },
  {
   "cell_type": "code",
   "execution_count": null,
   "metadata": {},
   "outputs": [],
   "source": [
    "import os\n",
    "import shutil\n",
    "\n",
    "dest_data_dir = \"./10Q-raw\"\n",
    "\n",
    "def find_files(base_path, file_name):\n",
    "    file_list = []\n",
    "    for root, dirs, files in os.walk(base_path):\n",
    "        if file_name in files:\n",
    "            file_list.append(os.path.join(root, file_name))\n",
    "    return file_list\n",
    "\n",
    "def move_file(src, dst):\n",
    "    if src:\n",
    "        shutil.move(src, dst)\n",
    "    else:\n",
    "        print(\"File not found.\")\n",
    "\n",
    "# To display the batches:\n",
    "for t in ticker_list: \n",
    "    base_path = f\"./sec-edgar-filings/{t}/10-Q\"\n",
    "    file_name = \"primary-document.html\"\n",
    "    file_paths = find_files(base_path, file_name)\n",
    "    cnt = 1\n",
    "    for fp in file_paths:\n",
    "        os.makedirs(dest_data_dir, exist_ok=True)\n",
    "        move_file(fp, f\"{dest_data_dir}/{t}-{cnt}.html\")\n",
    "        cnt += 1\n",
    "    \n",
    "    print(f\"Moved {t} files to {dest_data_dir}\")\n",
    "\n",
    "#shutil.rmtree(f\"./sec-edgar-filings\")"
   ]
  },
  {
   "cell_type": "markdown",
   "metadata": {},
   "source": [
    "# Step #4 - Generate parquet files from HTML source files\n",
    "\n",
    "1. Use `UnstructuredReader` from llama_hub to parse the HTML into text\n",
    "1. Obtain end date report period from 10-Q report text\n",
    "1. Add metadata for canopy and end user interface\n",
    "1. Save metadata and report text to parquet files"
   ]
  },
  {
   "cell_type": "code",
   "execution_count": null,
   "metadata": {},
   "outputs": [],
   "source": [
    "from pathlib import Path\n",
    "from llama_hub.file.unstructured import UnstructuredReader\n",
    "import os\n",
    "import re\n",
    "from dateutil import parser\n",
    "import pandas as pd\n",
    "\n",
    "dest_data_dir = \"./10Q-raw\"\n",
    "parquet_data_dir = f\"./10Q-parquet/\"\n",
    "os.makedirs(parquet_data_dir, exist_ok=True)\n",
    "\n",
    "pattern = re.compile(r'(?i)(\\w+\\s+\\d+,\\s+20[1-2][0-3]).*')\n",
    "\n",
    "def get_file_list(directory):\n",
    "    \"\"\"Get a list of files in the given directory\"\"\"\n",
    "    return [f for f in os.listdir(directory) if os.path.isfile(os.path.join(directory, f))]\n",
    "\n",
    "def get_quarter_report_period(doc_text):\n",
    "    if pattern.search(doc_text):\n",
    "        start = pattern.search(doc_text).start()\n",
    "        end = pattern.search(doc_text).end()\n",
    "        text_snippet = doc_text[start:end]\n",
    "        cleaned_text = pattern.sub(r'\\1', text_snippet)\n",
    "        date = parser.parse(cleaned_text, fuzzy=True).strftime(\"%Y-%m-%d\")\n",
    "        return date\n",
    "    else:\n",
    "        return \"????-??-??\"\n",
    "\n",
    "def write_to_parquet(id, text, source, metadata):\n",
    "    parquet_path = f\"{parquet_data_dir}/{id}.parquet\"\n",
    "    data = {\n",
    "        'id': [id],\n",
    "        'text': [text],\n",
    "        'source': [source],\n",
    "        'metadata': [metadata]\n",
    "    }\n",
    "    df = pd.DataFrame(data)\n",
    "    df.to_parquet(path=parquet_path, engine='pyarrow')\n",
    "\n",
    "loader = UnstructuredReader()\n",
    "documents = get_file_list(dest_data_dir)\n",
    "for d in documents:\n",
    "    doc = loader.load_data(file=Path(f\"{dest_data_dir}/{d}\"))[0]\n",
    "    doc_text = doc.text\n",
    "    quarter_period = get_quarter_report_period(doc_text)\n",
    "    ticker = d.split(\"-\")[0]\n",
    "    id = doc.doc_id\n",
    "    source = f\"{ticker} - Form 10-Q for the quarterly period ended {quarter_period}\"\n",
    "    metadata = {'ticker': ticker, \n",
    "                'quarter_period_end': quarter_period, \n",
    "                'doc_type': '10-Q', \n",
    "                'source_api': 'sec_edgar_downloader'}\n",
    "    write_to_parquet(id, doc_text, source, metadata)\n",
    "    print(f\"id is: {id}, source: {source}, metadata: {metadata} written to parquet\")\n",
    "    \n"
   ]
  },
  {
   "cell_type": "markdown",
   "metadata": {},
   "source": [
    "# Step #5 - Run context-engine to update parquet files \n"
   ]
  },
  {
   "cell_type": "code",
   "execution_count": null,
   "metadata": {},
   "outputs": [],
   "source": [
    "%load_ext dotenv\n",
    "%dotenv ./.env\n",
    "!canopy new <<< 'y'"
   ]
  },
  {
   "cell_type": "code",
   "execution_count": null,
   "metadata": {},
   "outputs": [],
   "source": [
    "%load_ext dotenv\n",
    "%dotenv ./.env\n",
    "!canopy upsert ./10Q-parquet <<< 'y'"
   ]
  },
  {
   "cell_type": "markdown",
   "metadata": {},
   "source": [
    "# Step #6 - OPTIONAL - Delete raw 10-Q HTML and Parquet files\n",
    "\n",
    "Self explanatory. External to context-engine but it would be nice if we provided:\n",
    "\n",
    "A way to specify S3/GCS bucket as an upsert source\n",
    "\n",
    "Automatically convert text files to parquet format. It will demo well but may not be useful for real world use. Meta-data handling/config seems to be the biggest issue. \n",
    "\n",
    "It would be nice if the user could specify a meta-data mapping like the following:\n",
    "\n",
    "S3 Bucket Path\n",
    "```\n",
    "--bucket YOUR_BUCKET_NAME --key year/sec_filing_type/exchange/ticker\n",
    "```\n",
    "\n",
    "Local File Path\n",
    "```\n",
    "${DOC_BASE}/year/sec_filing_type/exchange/ticker\n",
    "```\n",
    "\n",
    "| year | sec_filing_type | exchange | ticker |\n",
    "|------|-----------------|----------|--------|\n",
    "| 2023 | 10-Q            | SPY      | AAPL   | \n",
    "\n",
    "\n"
   ]
  },
  {
   "cell_type": "code",
   "execution_count": null,
   "metadata": {},
   "outputs": [],
   "source": [
    "import shutil\n",
    "\n",
    "shutil.rmtree(\"./10Q-parquet\")\n",
    "shutil.rmtree(\"./10Q-raw\")"
   ]
  }
 ],
 "metadata": {
  "kernelspec": {
   "display_name": "Python 3",
   "language": "python",
   "name": "python3"
  },
  "language_info": {
   "codemirror_mode": {
    "name": "ipython",
    "version": 3
   },
   "file_extension": ".py",
   "mimetype": "text/x-python",
   "name": "python",
   "nbconvert_exporter": "python",
   "pygments_lexer": "ipython3",
   "version": "3.11.3"
  },
  "orig_nbformat": 4
 },
 "nbformat": 4,
 "nbformat_minor": 2
}
